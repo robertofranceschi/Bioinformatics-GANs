{
 "cells": [
  {
   "cell_type": "code",
   "execution_count": 143,
   "metadata": {},
   "outputs": [],
   "source": [
    "import pandas as pd \n",
    "import numpy as np \n",
    "import torch\n",
    "import torch.nn as nn\n",
    "import torch.nn.functional as F\n",
    "from tqdm import trange\n",
    "import matplotlib.pyplot as plt\n",
    "from sklearn.model_selection import train_test_split\n",
    "from sklearn.metrics import accuracy_score\n"
   ]
  },
  {
   "cell_type": "code",
   "execution_count": 144,
   "metadata": {},
   "outputs": [],
   "source": [
    "SEED = 40"
   ]
  },
  {
   "cell_type": "code",
   "execution_count": 145,
   "metadata": {},
   "outputs": [],
   "source": [
    "np.random.seed(seed=SEED)"
   ]
  },
  {
   "cell_type": "code",
   "execution_count": 146,
   "metadata": {},
   "outputs": [],
   "source": [
    "class Net(nn.Module):\n",
    "\n",
    "    def __init__(self):\n",
    "        super(Net, self).__init__()\n",
    "        self.fc1 = nn.Linear(367, 64)  # 6*6 from image dimension\n",
    "        self.fc2 = nn.Linear(64, 32)\n",
    "        self.fc3 = nn.Linear(32, 5)\n",
    "\n",
    "    def forward(self, x):\n",
    "        x = F.relu(self.fc1(x))\n",
    "        x = F.relu(self.fc2(x))\n",
    "        x = self.fc3(x)\n",
    "        return x\n",
    "\n"
   ]
  },
  {
   "cell_type": "code",
   "execution_count": 147,
   "metadata": {},
   "outputs": [],
   "source": [
    "#ground truth\n",
    "clusters = pd.read_csv('dataset_5000samples/clusters.txt', sep='\\t')\n",
    "\n",
    "meth = pd.read_csv('dataset_5000samples/meth.txt', sep='\\t' ).T\n",
    "meth.columns = meth.loc['probe',:]\n",
    "meth = meth.drop('probe')\n",
    "\n",
    "mRNA = pd.read_csv('dataset_5000samples/mRNA.txt', sep='\\t').T\n",
    "mRNA.columns = mRNA.loc['probe',:]\n",
    "mRNA = mRNA.drop('probe')\n",
    "\n",
    "prot = pd.read_csv('dataset_5000samples/prot.txt', sep='\\t').T\n",
    "prot.columns = prot.loc['probe',:]\n",
    "prot = prot.drop('probe')"
   ]
  },
  {
   "cell_type": "code",
   "execution_count": 148,
   "metadata": {},
   "outputs": [],
   "source": [
    "X = np.array(meth.values,dtype=np.float32)\n",
    "Y = np.array(clusters['cluster.id'].apply(lambda x: x-1).values,dtype=np.float32)\n",
    "\n",
    "X_train, X_test, Y_train, y_test = train_test_split(X, Y, test_size=0.33, random_state=SEED, stratify = Y)\n"
   ]
  },
  {
   "cell_type": "code",
   "execution_count": 157,
   "metadata": {},
   "outputs": [
    {
     "name": "stderr",
     "output_type": "stream",
     "text": [
      "  0%|          | 0/500 [00:00<?, ?it/s]/Library/Frameworks/Python.framework/Versions/3.7/lib/python3.7/site-packages/ipykernel_launcher.py:10: UserWarning: To copy construct from a tensor, it is recommended to use sourceTensor.clone().detach() or sourceTensor.clone().detach().requires_grad_(True), rather than torch.tensor(sourceTensor).\n",
      "  # Remove the CWD from sys.path while we load stuff.\n",
      "/Library/Frameworks/Python.framework/Versions/3.7/lib/python3.7/site-packages/ipykernel_launcher.py:11: UserWarning: To copy construct from a tensor, it is recommended to use sourceTensor.clone().detach() or sourceTensor.clone().detach().requires_grad_(True), rather than torch.tensor(sourceTensor).\n",
      "  # This is added back by InteractiveShellApp.init_path()\n",
      "loss 0.19 accuracy 1.00: 100%|██████████| 500/500 [00:03<00:00, 136.04it/s]\n"
     ]
    },
    {
     "data": {
      "text/plain": [
       "[<matplotlib.lines.Line2D at 0x7fb03e2f5a50>]"
      ]
     },
     "execution_count": 157,
     "metadata": {},
     "output_type": "execute_result"
    },
    {
     "data": {
      "image/png": "[encoded data removed]",
      "text/plain": [
       "<Figure size 432x288 with 1 Axes>"
      ]
     },
     "metadata": {
      "needs_background": "light"
     },
     "output_type": "display_data"
    }
   ],
   "source": [
    "#training\n",
    "model = Net()\n",
    "BS = 64\n",
    "loss_function = nn.CrossEntropyLoss(reduction='none')\n",
    "optim = torch.optim.SGD(model.parameters(),lr = 0.01, momentum=0.2)\n",
    "losses, accuracies = [], []\n",
    "t = trange(500)\n",
    "for i in t: \n",
    "    samp = np.random.randint(0,X_train.shape[0],size = (BS), )\n",
    "    X = torch.tensor(torch.from_numpy(X_train[samp]).reshape(-1,367))\n",
    "    Y = torch.tensor(torch.from_numpy(Y_train[samp])).long()\n",
    "    model.zero_grad()\n",
    "    out = model(X)\n",
    "    cat = torch.argmax(out, dim = 1)\n",
    "    acc = (cat==Y).float().mean()\n",
    "    loss = loss_function(out,Y).mean()\n",
    "    loss.backward()\n",
    "    optim.step()\n",
    "    loss,accuracy = loss.item(),acc.item()\n",
    "    losses.append(loss)\n",
    "    accuracies.append(accuracy)\n",
    "    t.set_description(\"loss %.2f accuracy %.2f\" %(loss,accuracy))\n",
    "plt.ylim(-0.1,2)\n",
    "plt.plot(losses)\n",
    "plt.plot(accuracies)"
   ]
  },
  {
   "cell_type": "code",
   "execution_count": 158,
   "metadata": {},
   "outputs": [
    {
     "data": {
      "text/plain": [
       "1.0"
      ]
     },
     "execution_count": 158,
     "metadata": {},
     "output_type": "execute_result"
    }
   ],
   "source": [
    "y_pred = torch.argmax(model(torch.from_numpy(X_test)), dim = 1).detach().numpy()\n",
    "accuracy_score(y_test, y_pred)"
   ]
  },
  {
   "cell_type": "code",
   "execution_count": null,
   "metadata": {},
   "outputs": [],
   "source": []
  }
 ],
 "metadata": {
  "kernelspec": {
   "display_name": "Python 3",
   "language": "python",
   "name": "python3"
  },
  "language_info": {
   "codemirror_mode": {
    "name": "ipython",
    "version": 3
   },
   "file_extension": ".py",
   "mimetype": "text/x-python",
   "name": "python",
   "nbconvert_exporter": "python",
   "pygments_lexer": "ipython3",
   "version": "3.7.9"
  }
 },
 "nbformat": 4,
 "nbformat_minor": 4
}
