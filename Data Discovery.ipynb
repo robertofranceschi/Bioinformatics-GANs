{
 "cells": [
  {
   "cell_type": "code",
   "execution_count": 17,
   "metadata": {},
   "outputs": [],
   "source": [
    "import pandas as pd \n",
    "import numpy as np \n",
    "import torch\n",
    "import torch.nn as nn\n",
    "import torch.nn.functional as F\n",
    "from tqdm import trange\n",
    "import matplotlib.pyplot as plt\n",
    "from sklearn.model_selection import train_test_split\n",
    "from sklearn.metrics import accuracy_score\n",
    "import random"
   ]
  },
  {
   "cell_type": "code",
   "execution_count": 3,
   "metadata": {},
   "outputs": [],
   "source": [
    "SEED = 40"
   ]
  },
  {
   "cell_type": "code",
   "execution_count": 4,
   "metadata": {},
   "outputs": [],
   "source": [
    "np.random.seed(seed=SEED)"
   ]
  },
  {
   "cell_type": "code",
   "execution_count": 14,
   "metadata": {},
   "outputs": [],
   "source": [
    "class Discriminator(nn.Module):\n",
    "\n",
    "    def __init__(self):\n",
    "        super(Discriminator, self).__init__()\n",
    "        self.fc1 = nn.Linear(367, 64)  # 6*6 from image dimension\n",
    "        self.fc2 = nn.Linear(64, 32)\n",
    "        self.fc3 = nn.Linear(32, 5)\n",
    "\n",
    "    def forward(self, x):\n",
    "        x = F.relu(self.fc1(x))\n",
    "        x = F.relu(self.fc2(x))\n",
    "        x = self.fc3(x)\n",
    "        return x\n",
    "\n",
    "class Generator(nn.Module):\n",
    "\n",
    "    def __init__(self):\n",
    "        super(Generator, self).__init__()\n",
    "        self.fc1 = nn.Linear(1024, 512)  # 6*6 from image dimension\n",
    "        self.fc2 = nn.Linear(512, 400)\n",
    "        self.fc3 = nn.Linear(400, 367)\n",
    "\n",
    "    def forward(self, x):\n",
    "        x = F.relu(self.fc1(x))\n",
    "        x = F.relu(self.fc2(x))\n",
    "        x = self.fc3(x)\n",
    "        return x\n",
    "\n"
   ]
  },
  {
   "cell_type": "code",
   "execution_count": 6,
   "metadata": {},
   "outputs": [],
   "source": [
    "#ground truth\n",
    "clusters = pd.read_csv('dataset_5000samples/clusters.txt', sep='\\t')\n",
    "\n",
    "meth = pd.read_csv('dataset_5000samples/meth.txt', sep='\\t' ).T\n",
    "meth.columns = meth.loc['probe',:]\n",
    "meth = meth.drop('probe')\n",
    "\n",
    "mRNA = pd.read_csv('dataset_5000samples/mRNA.txt', sep='\\t').T\n",
    "mRNA.columns = mRNA.loc['probe',:]\n",
    "mRNA = mRNA.drop('probe')\n",
    "\n",
    "prot = pd.read_csv('dataset_5000samples/prot.txt', sep='\\t').T\n",
    "prot.columns = prot.loc['probe',:]\n",
    "prot = prot.drop('probe')"
   ]
  },
  {
   "cell_type": "code",
   "execution_count": 7,
   "metadata": {},
   "outputs": [],
   "source": [
    "X = np.array(meth.values,dtype=np.float32)\n",
    "Y = np.array(clusters['cluster.id'].apply(lambda x: x-1).values,dtype=np.float32)\n",
    "\n",
    "X_train, X_test, Y_train, y_test = train_test_split(X, Y, test_size=0.33, random_state=SEED, stratify = Y)\n"
   ]
  },
  {
   "cell_type": "code",
   "execution_count": 8,
   "metadata": {},
   "outputs": [
    {
     "name": "stderr",
     "output_type": "stream",
     "text": [
      "  0%|          | 0/500 [00:00<?, ?it/s]/Library/Frameworks/Python.framework/Versions/3.7/lib/python3.7/site-packages/ipykernel_launcher.py:10: UserWarning: To copy construct from a tensor, it is recommended to use sourceTensor.clone().detach() or sourceTensor.clone().detach().requires_grad_(True), rather than torch.tensor(sourceTensor).\n",
      "  # Remove the CWD from sys.path while we load stuff.\n",
      "/Library/Frameworks/Python.framework/Versions/3.7/lib/python3.7/site-packages/ipykernel_launcher.py:11: UserWarning: To copy construct from a tensor, it is recommended to use sourceTensor.clone().detach() or sourceTensor.clone().detach().requires_grad_(True), rather than torch.tensor(sourceTensor).\n",
      "  # This is added back by InteractiveShellApp.init_path()\n",
      "loss 0.21 accuracy 1.00: 100%|██████████| 500/500 [00:02<00:00, 172.23it/s]\n"
     ]
    },
    {
     "data": {
      "text/plain": [
       "[<matplotlib.lines.Line2D at 0x7f91baca5b90>]"
      ]
     },
     "execution_count": 8,
     "metadata": {},
     "output_type": "execute_result"
    },
    {
     "data": {
      "image/png": "[encoded data removed]",
      "text/plain": [
       "<Figure size 432x288 with 1 Axes>"
      ]
     },
     "metadata": {
      "needs_background": "light"
     },
     "output_type": "display_data"
    }
   ],
   "source": [
    "#training\n",
    "model = Net()\n",
    "BS = 64\n",
    "loss_function = nn.CrossEntropyLoss(reduction='none')\n",
    "optim = torch.optim.SGD(model.parameters(),lr = 0.01, momentum=0.2)\n",
    "losses, accuracies = [], []\n",
    "t = trange(500)\n",
    "for i in t: \n",
    "    samp = np.random.randint(0,X_train.shape[0],size = (BS), )\n",
    "    X = torch.tensor(torch.from_numpy(X_train[samp]).reshape(-1,367))\n",
    "    Y = torch.tensor(torch.from_numpy(Y_train[samp])).long()\n",
    "    model.zero_grad()\n",
    "    out = model(X)\n",
    "    cat = torch.argmax(out, dim = 1)\n",
    "    acc = (cat==Y).float().mean()\n",
    "    loss = loss_function(out,Y).mean()\n",
    "    loss.backward()\n",
    "    optim.step()\n",
    "    loss,accuracy = loss.item(),acc.item()\n",
    "    losses.append(loss)\n",
    "    accuracies.append(accuracy)\n",
    "    t.set_description(\"loss %.2f accuracy %.2f\" %(loss,accuracy))\n",
    "plt.ylim(-0.1,2)\n",
    "plt.plot(losses)\n",
    "plt.plot(accuracies)"
   ]
  },
  {
   "cell_type": "code",
   "execution_count": 9,
   "metadata": {},
   "outputs": [
    {
     "data": {
      "text/plain": [
       "1.0"
      ]
     },
     "execution_count": 9,
     "metadata": {},
     "output_type": "execute_result"
    }
   ],
   "source": [
    "y_pred = torch.argmax(model(torch.from_numpy(X_test)), dim = 1).detach().numpy()\n",
    "accuracy_score(y_test, y_pred)"
   ]
  },
  {
   "cell_type": "code",
   "execution_count": 10,
   "metadata": {},
   "outputs": [],
   "source": [
    "X_train = X_train[Y_train==1]\n",
    "Y_train =Y_train[Y_train==1]\n",
    "X_test = X_test[y_test==1]\n",
    "y_test = y_test[y_test==1]"
   ]
  },
  {
   "cell_type": "code",
   "execution_count": 18,
   "metadata": {},
   "outputs": [],
   "source": [
    "#GAN\n",
    "d = Discriminator()\n",
    "g = Generator()\n",
    "BS = 64\n",
    "loss_function = nn.BCELoss(reduction='none')\n",
    "optim_g = torch.optim.SGD(model.parameters(),lr = 0.01, momentum=0.2)\n",
    "optim_d = torch.optim.SGD(model.parameters(),lr = 0.01, momentum=0.2)\n",
    "Z = np.array([random.random() for i in range (367)])\n"
   ]
  },
  {
   "cell_type": "code",
   "execution_count": 15,
   "metadata": {},
   "outputs": [
    {
     "ename": "IndentationError",
     "evalue": "expected an indented block (<ipython-input-15-b0ac2d5144cf>, line 4)",
     "output_type": "error",
     "traceback": [
      "\u001b[0;36m  File \u001b[0;32m\"<ipython-input-15-b0ac2d5144cf>\"\u001b[0;36m, line \u001b[0;32m4\u001b[0m\n\u001b[0;31m    param.requires_grad = True\u001b[0m\n\u001b[0m        ^\u001b[0m\n\u001b[0;31mIndentationError\u001b[0m\u001b[0;31m:\u001b[0m expected an indented block\n"
     ]
    }
   ],
   "source": [
    "losses, accuracies = [], []\n",
    "\n",
    "for loop in range(10):\n",
    "    print(\"******* loop %d *******\" % loop)\n",
    "    for param in d.parameters():\n",
    "        param.requires_grad = True\n",
    "    X, Y  = [], []\n",
    "    \n",
    "    #generate random samples\n",
    "    Z = np.array([[random.random() for i in range (367)] for j in BS])\n",
    "    fake = g(Z).detach()\n",
    "    \n",
    "    plt.hist(samples_real, bins = np.arange(-3,3,0.1))\n",
    "    plt.hist(samples_fake, bins = np.arange(-3,3,0.1))\n",
    "    plt.show(loop)\n",
    "    \n",
    "    samp = np.random.randint(0,X_train.shape[0],size = (BS), )\n",
    "    real = torch.tensor(torch.from_numpy(X_train[samp]).reshape(-1,367))\n",
    "    \n",
    "    X = list(fake) + list(real)\n",
    "    Y = torch.from_numpy([0]*fake.shape[0] +[1]*real.shape[0])\n",
    "    \n",
    "    XY = list(zip(X,Y))\n",
    "    random.shuffle(XY)\n",
    "    X, Y = zip(*XY)\n",
    "    \n",
    "    #train discriminator on real and fake \n",
    "    y_pred = d(np.array(X))\n",
    "    acc = (y_pred==Y).float().mean()\n",
    "    loss = loss_function(y_pred,Y).mean()\n",
    "    loss.backward()\n",
    "    optim_d.step()\n",
    "    loss,accuracy = loss.item(),acc.item()\n",
    "    losses.append(loss)\n",
    "    accuracies.append(accuracy)\n",
    "    t.set_description(\"loss %.2f accuracy %.2f\" %(loss,accuracy))\n",
    "    \n",
    "    Z = np.array([[random.random() for i in range (367)] for j in BS])\n",
    "    fake = g(Z)\n",
    "    optim_g.zero_grad()\n",
    "    prediction = d(fake)\n",
    "    # Calculate error and backpropagate\n",
    "    error = loss_function(prediction,torch.from_numpy([1]*fake.shape[0]) )\n",
    "    error.backward()\n",
    "    # Update weights with gradients\n",
    "    optimizer.step()\n",
    "    "
   ]
  },
  {
   "cell_type": "code",
   "execution_count": null,
   "metadata": {},
   "outputs": [],
   "source": []
  }
 ],
 "metadata": {
  "kernelspec": {
   "display_name": "Python 3",
   "language": "python",
   "name": "python3"
  },
  "language_info": {
   "codemirror_mode": {
    "name": "ipython",
    "version": 3
   },
   "file_extension": ".py",
   "mimetype": "text/x-python",
   "name": "python",
   "nbconvert_exporter": "python",
   "pygments_lexer": "ipython3",
   "version": "3.7.9"
  }
 },
 "nbformat": 4,
 "nbformat_minor": 4
}
